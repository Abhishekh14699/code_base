{
 "cells": [
  {
   "cell_type": "code",
   "execution_count": 125,
   "metadata": {},
   "outputs": [],
   "source": [
    "#Used to define infinite distance between cities with no path\n",
    "import math"
   ]
  },
  {
   "cell_type": "code",
   "execution_count": 126,
   "metadata": {},
   "outputs": [],
   "source": [
    "#Function to calculate distance between cities\n",
    "def path_len(path):\n",
    "    return sum(dist_matrix[i][j] for i, j in zip(path, path[1:]))"
   ]
  },
  {
   "cell_type": "code",
   "execution_count": 127,
   "metadata": {},
   "outputs": [
    {
     "name": "stdout",
     "output_type": "stream",
     "text": [
      "Number of cities:  4\n",
      "List of cities:  ['D', 'A', 'B', 'C']\n",
      "Starting City:  D\n",
      "Edge Info:\n",
      "['A', 'B', 20.0]\n",
      "['A', 'C', 10.0]\n",
      "['A', 'D', 12.0]\n"
     ]
    }
   ],
   "source": [
    "#Open input file and parse text to find cities and starting node\n",
    "input_file = open(\"inputPS03.txt\",\"r\")\n",
    "\n",
    "'''\n",
    "Variables Info\n",
    "input_file      -> contains info about nodes and startiong point\n",
    "map_info        -> info about edges and distances between cities\n",
    "cities          -> list of cities\n",
    "start           -> starting city\n",
    "n               -> number of cities\n",
    "dist_matrix     -> distance matrix of cities\n",
    "to_visit        -> set of nodes to visit\n",
    "state           -> stores state of each city \n",
    "shortest_path   -> order of cities to visit\n",
    "total_distance  -> shortest distance to travel the circuit\n",
    "'''\n",
    "\n",
    "map_info = []\n",
    "cities = []\n",
    "n = 0\n",
    "#split each line from text file and extract data into map_info\n",
    "for line in input_file.readlines():\n",
    "    #condition for all initial lines\n",
    "    if \"/\" in line:\n",
    "        line = line.split(\"/\")\n",
    "        city1 = line[0].strip()\n",
    "        city2 = line[1].strip()\n",
    "        try:\n",
    "            dist = float(line[2].strip())\n",
    "        except ValueError:\n",
    "            #check if value is floating point\n",
    "            print(\"Error while converting distance -> \",line[2])\n",
    "            raise\n",
    "        map_info.append([city1,city2,dist])\n",
    "\n",
    "        #create list of cities for further use\n",
    "        if city1 not in cities:\n",
    "            cities.append(city1)\n",
    "        if city2 not in cities:\n",
    "            cities.append(city2)\n",
    "    \n",
    "    #condition to extract intital city\n",
    "    else:\n",
    "        line = line.split(\":\")\n",
    "        start = line[1].strip()\n",
    "\n",
    "n= len(cities)\n",
    "\n",
    "#Check if starting node exists in map\n",
    "if start not in cities:\n",
    "    print(\"Starting City not available in map -> \",start)\n",
    "    raise\n",
    "else:\n",
    "    ind = cities.index(start)\n",
    "    cities = cities[ind:]+cities[:ind]\n",
    "    print(\"Number of cities: \",n)\n",
    "    print(\"List of cities: \",cities)\n",
    "    print(\"Starting City: \",start)\n",
    "    print(\"Edge Info:\")\n",
    "\n",
    "    for i in map_info:\n",
    "        print(i)\n"
   ]
  },
  {
   "cell_type": "code",
   "execution_count": 128,
   "metadata": {},
   "outputs": [
    {
     "name": "stdout",
     "output_type": "stream",
     "text": [
      "Distance Matrix:\n",
      "      D   A   B   C\n",
      "D [inf, 12.0, inf, inf]\n",
      "A [12.0, inf, 20.0, 10.0]\n",
      "B [inf, 20.0, inf, inf]\n",
      "C [inf, 10.0, inf, inf]\n"
     ]
    }
   ],
   "source": [
    "#Create initial distance matrix\n",
    "dist_matrix = [[math.inf for i in range(n)] for j in range(n)]\n",
    "\n",
    "#Populate dist_matirx from map_info\n",
    "for i in map_info:\n",
    "    ind1 = cities.index(i[0])\n",
    "    ind2 = cities.index(i[1])\n",
    "    dist_matrix[ind1][ind2] = i[2]\n",
    "    dist_matrix[ind2][ind1] = i[2]\n",
    "\n",
    "#Printing Distance Matrix\n",
    "print(\"Distance Matrix:\")\n",
    "print(\"   \",*cities,sep=\"   \")\n",
    "for i in range(n):\n",
    "    print(cities[i],dist_matrix[i])"
   ]
  },
  {
   "cell_type": "code",
   "execution_count": 129,
   "metadata": {},
   "outputs": [
    {
     "name": "stdout",
     "output_type": "stream",
     "text": [
      "No path available to travel all cities\n"
     ]
    }
   ],
   "source": [
    "#Set of nodes to visit\n",
    "to_visit = set(range(n))\n",
    "\n",
    "# Current state {(node, visited_nodes): shortest_path}\n",
    "state = {(i, frozenset([0, i])): [0, i] for i in range(1, n)}\n",
    "\n",
    "#Going through all viable options\n",
    "for i in range(n - 2):\n",
    "    next_state = {}\n",
    "    for position, path in state.items():\n",
    "        current_node, visited = position\n",
    "\n",
    "        # Check all nodes that haven't been visited so far\n",
    "        for node in to_visit - visited:\n",
    "            new_path = path + [node]\n",
    "            new_pos = (node, frozenset(new_path))\n",
    "\n",
    "            # Update if (current node, visited) is not in next state or we found shorter path\n",
    "            if new_pos not in next_state or path_len(new_path) < path_len(next_state[new_pos]):\n",
    "                next_state[new_pos] = new_path\n",
    "\n",
    "    state = next_state\n",
    "\n",
    "# Find the shortest path from possible candidates\n",
    "shortest_path = min((path + [0] for path in state.values()), key=path_len)\n",
    "total_distance = path_len(shortest_path)\n",
    "if(math.isinf(total_distance)):\n",
    "    print(\"No path available to travel all cities\")\n",
    "else:\n",
    "    #Write information to output file\n",
    "    with open(\"outputPS03.txt\", \"w\") as f:\n",
    "        #f.writelines()\n",
    "        f.write(\"The optimal route is:\\n\")\n",
    "        route = []\n",
    "        for i in shortest_path:\n",
    "            route.append(cities[i])\n",
    "        route = \" -> \".join(route)\n",
    "        f.write(route+\"\\n\\n\")\n",
    "        \n",
    "        f.write(\"The total distance is:\\n\")\n",
    "        dist = []\n",
    "        for i in range(len(shortest_path)-1):\n",
    "            dist.append(str(dist_matrix[shortest_path[i]][shortest_path[i+1]]))\n",
    "        dist = \" + \".join(dist)\n",
    "        dist = dist + \" = \" + str(total_distance)\n",
    "        f.write(dist)\n"
   ]
  }
 ],
 "metadata": {
  "interpreter": {
   "hash": "1baa965d5efe3ac65b79dfc60c0d706280b1da80fedb7760faf2759126c4f253"
  },
  "kernelspec": {
   "display_name": "Python 3.8.3 64-bit",
   "language": "python",
   "name": "python3"
  },
  "language_info": {
   "codemirror_mode": {
    "name": "ipython",
    "version": 3
   },
   "file_extension": ".py",
   "mimetype": "text/x-python",
   "name": "python",
   "nbconvert_exporter": "python",
   "pygments_lexer": "ipython3",
   "version": "3.9.10"
  },
  "orig_nbformat": 4
 },
 "nbformat": 4,
 "nbformat_minor": 2
}
